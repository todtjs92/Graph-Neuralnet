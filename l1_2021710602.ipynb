{
  "nbformat": 4,
  "nbformat_minor": 0,
  "metadata": {
    "colab": {
      "name": "l1-2021710602.ipynb",
      "provenance": [],
      "collapsed_sections": []
    },
    "kernelspec": {
      "name": "python3",
      "display_name": "Python 3"
    },
    "language_info": {
      "name": "python"
    }
  },
  "cells": [
    {
      "cell_type": "markdown",
      "metadata": {
        "id": "z-jqbVKo7Eo1"
      },
      "source": [
        "# 제출안내\n",
        "- 파일명: l1-학번.ipynb\n",
        "- 아이캠퍼스에 제출\n"
      ]
    },
    {
      "cell_type": "markdown",
      "metadata": {
        "id": "ZA8kR_6FSwJw"
      },
      "source": [
        "# Overview: Lab 1\n",
        "\n",
        "\n",
        "*   NetworkX\n",
        "*   Graph Basics\n",
        "    * l2-network-structure\n",
        "    * l2-network-representation\n",
        "    * l3-properties\n",
        "    * l4-centrality\n",
        "    * l6-pagerank\n",
        "* Community Analysis\n",
        "    * l5-community\n",
        "    * l5-community-detection\n",
        "\n"
      ]
    },
    {
      "cell_type": "markdown",
      "metadata": {
        "id": "mMOa4vRsRZ8X"
      },
      "source": [
        "\n",
        "# 1. Graph Basics\n",
        "\n",
        "NetworkX is one of the most frequently used Python packages to create, manipulate, and mine graphs.\n",
        "\n",
        "Main parts of this tutorial are adapted from \n",
        "*   https://colab.research.google.com/github/jdwittenauer/ipython-notebooks/blob/master/notebooks/libraries/NetworkX.ipynb#scrollTo=lOElDbgvRJOl\n",
        "*   https://colab.research.google.com/drive/16tqEHKOLUgYvXKx1V3blfYGpQb1_09MG?usp=sharing#scrollTo=Nwwq0nSdmsOL\n",
        "* https://colab.research.google.com/drive/1mDfmDvzIznQp0THLWDCQNBOw331l3Ks9?usp=sharing#scrollTo=Iee0U8KGURc8"
      ]
    },
    {
      "cell_type": "markdown",
      "metadata": {
        "id": "Nwwq0nSdmsOL"
      },
      "source": [
        "## Setup"
      ]
    },
    {
      "cell_type": "code",
      "metadata": {
        "id": "QeqN7MHvH1OA"
      },
      "source": [
        "# Install \n",
        "# ! pip install networkx\n",
        "\n",
        "# Import the NetworkX package\n",
        "import networkx as nx"
      ],
      "execution_count": 1,
      "outputs": []
    },
    {
      "cell_type": "markdown",
      "metadata": {
        "id": "MCIeGAfLfAMK"
      },
      "source": [
        "## Graph\n",
        "NetworkX provides several classes to store different types of graphs, such as directed and undirected graph. It also provides classes to create multigraphs (both directed and undirected).\n",
        "\n",
        "For more information, please refer to [NetworkX graph types](https://networkx.org/documentation/stable/reference/classes/index.html)."
      ]
    },
    {
      "cell_type": "code",
      "metadata": {
        "id": "qSI_n6P-e0PW",
        "colab": {
          "base_uri": "https://localhost:8080/"
        },
        "outputId": "8897b4e2-731b-406b-f5ef-dd89002d4a87"
      },
      "source": [
        "# Create an undirected graph G\n",
        "G = nx.Graph()\n",
        "print(G.is_directed())"
      ],
      "execution_count": 2,
      "outputs": [
        {
          "output_type": "stream",
          "name": "stdout",
          "text": [
            "False\n"
          ]
        }
      ]
    },
    {
      "cell_type": "code",
      "metadata": {
        "id": "gpdJV0AdoDTY",
        "colab": {
          "base_uri": "https://localhost:8080/"
        },
        "outputId": "8988f1d6-d1cd-4666-ae23-46e523c2dd4a"
      },
      "source": [
        "# Create a directed graph H\n",
        "H = nx.DiGraph()\n",
        "print(H.is_directed())"
      ],
      "execution_count": 3,
      "outputs": [
        {
          "output_type": "stream",
          "name": "stdout",
          "text": [
            "True\n"
          ]
        }
      ]
    },
    {
      "cell_type": "markdown",
      "metadata": {
        "id": "x0pLs0-Ka9j8"
      },
      "source": [
        "## Node\n",
        "\n",
        "Nodes (with attributes) can be easily added to NetworkX graphs."
      ]
    },
    {
      "cell_type": "code",
      "metadata": {
        "id": "_tNQdhVYOYDn"
      },
      "source": [
        "# Add one node \n",
        "G.add_node(0)"
      ],
      "execution_count": 4,
      "outputs": []
    },
    {
      "cell_type": "code",
      "metadata": {
        "id": "KADxNuSrOZ1X"
      },
      "source": [
        "# Add one node with node level attributes\n",
        "G.add_node(0, feature=0, label=1)"
      ],
      "execution_count": 5,
      "outputs": []
    },
    {
      "cell_type": "code",
      "metadata": {
        "id": "jQ8ApAL5H1GB",
        "colab": {
          "base_uri": "https://localhost:8080/"
        },
        "outputId": "9f43c5fc-2f75-4dfa-bf7e-74b10bb18f22"
      },
      "source": [
        "# Get attributes of the node 0\n",
        "node_0_attr = G.nodes[0]\n",
        "print(\"Node 0 has the attributes {}\".format(node_0_attr))"
      ],
      "execution_count": 6,
      "outputs": [
        {
          "output_type": "stream",
          "name": "stdout",
          "text": [
            "Node 0 has the attributes {'feature': 0, 'label': 1}\n"
          ]
        }
      ]
    },
    {
      "cell_type": "code",
      "metadata": {
        "id": "btOdMYqJaKia"
      },
      "source": [
        "# Add multiple nodes with attributes\n",
        "G.add_nodes_from([\n",
        "  (1, {\"feature\": 1, \"label\": 1}),\n",
        "  (2, {\"feature\": 2, \"label\": 2})\n",
        "]) #(node, attrdict)"
      ],
      "execution_count": 7,
      "outputs": []
    },
    {
      "cell_type": "code",
      "metadata": {
        "id": "DOb6LAw5oR_9",
        "colab": {
          "base_uri": "https://localhost:8080/"
        },
        "outputId": "480f15eb-02bd-4edd-fc89-f1bd3963edc5"
      },
      "source": [
        "# Loop through all the nodes\n",
        "# Set data=True will return node attributes\n",
        "nodes_attributes = G.nodes(data = True)\n",
        "for node in nodes_attributes:\n",
        "  print(node)"
      ],
      "execution_count": 8,
      "outputs": [
        {
          "output_type": "stream",
          "name": "stdout",
          "text": [
            "(0, {'feature': 0, 'label': 1})\n",
            "(1, {'feature': 1, 'label': 1})\n",
            "(2, {'feature': 2, 'label': 2})\n"
          ]
        }
      ]
    },
    {
      "cell_type": "code",
      "metadata": {
        "id": "Yl_FqV1qoU7m",
        "colab": {
          "base_uri": "https://localhost:8080/"
        },
        "outputId": "b0a448df-c70a-4f98-e550-d9537f1e4b8f"
      },
      "source": [
        "# Get number of nodes\n",
        "num_nodes = G.number_of_nodes()\n",
        "print(\"G has {} nodes\".format(num_nodes))"
      ],
      "execution_count": 9,
      "outputs": [
        {
          "output_type": "stream",
          "name": "stdout",
          "text": [
            "G has 3 nodes\n"
          ]
        }
      ]
    },
    {
      "cell_type": "markdown",
      "metadata": {
        "id": "0AdoaZPgbRis"
      },
      "source": [
        "## Edge\n",
        "\n",
        "Similar to nodes, edges (with attributes) can also be easily added to NetworkX graphs."
      ]
    },
    {
      "cell_type": "code",
      "metadata": {
        "id": "0szH5F6EH079",
        "colab": {
          "base_uri": "https://localhost:8080/"
        },
        "outputId": "b852500a-14ca-460e-d158-9e6edd36c2e7"
      },
      "source": [
        "# Add one edge with edge level attributes\n",
        "G.add_edge(0, 1, weight=0.5)\n",
        "\n",
        "# Get attributes of the edge (0, 1)\n",
        "edge_0_1_attr = G.edges[(0,1)]\n",
        "print(\"Edge (0, 1) has the attributes {}\".format(edge_0_1_attr))"
      ],
      "execution_count": 10,
      "outputs": [
        {
          "output_type": "stream",
          "name": "stdout",
          "text": [
            "Edge (0, 1) has the attributes {'weight': 0.5}\n"
          ]
        }
      ]
    },
    {
      "cell_type": "code",
      "metadata": {
        "id": "QRTmi4EUaf_I"
      },
      "source": [
        "# Add multiple edges with edge weights\n",
        "G.add_edges_from([\n",
        "  (1, 2, {\"weight\": 0.3}),\n",
        "  (2, 0, {\"weight\": 0.1}),\n",
        "])"
      ],
      "execution_count": 11,
      "outputs": []
    },
    {
      "cell_type": "code",
      "metadata": {
        "id": "8UoXa74voi05",
        "colab": {
          "base_uri": "https://localhost:8080/"
        },
        "outputId": "a35a23ae-1012-450f-8696-bee3d2e7d98d"
      },
      "source": [
        "# Loop through all the edges\n",
        "# Here there is no data=True, so only the edge will be returned\n",
        "edge_attributes = G.edges(data=True)\n",
        "for edge in edge_attributes:\n",
        "  print(edge)"
      ],
      "execution_count": 14,
      "outputs": [
        {
          "output_type": "stream",
          "name": "stdout",
          "text": [
            "(0, 1, {'weight': 0.5})\n",
            "(0, 2, {'weight': 0.1})\n",
            "(1, 2, {'weight': 0.3})\n"
          ]
        }
      ]
    },
    {
      "cell_type": "code",
      "metadata": {
        "id": "ZY1ocwxdoi9O",
        "colab": {
          "base_uri": "https://localhost:8080/"
        },
        "outputId": "50e6c3c8-07f5-46f7-a6ef-345fd938fb6b"
      },
      "source": [
        "# Get number of edges\n",
        "num_edges = G.number_of_edges()\n",
        "print(\"G has {} edges\".format(num_edges))"
      ],
      "execution_count": 15,
      "outputs": [
        {
          "output_type": "stream",
          "name": "stdout",
          "text": [
            "G has 3 edges\n"
          ]
        }
      ]
    },
    {
      "cell_type": "markdown",
      "metadata": {
        "id": "_Q6YTP2FDbOS"
      },
      "source": [
        "## Node Degree and Neighbor"
      ]
    },
    {
      "cell_type": "code",
      "metadata": {
        "id": "GFA3B6Z_DE3q",
        "colab": {
          "base_uri": "https://localhost:8080/"
        },
        "outputId": "d93409af-b29d-4435-9d2a-4ec348f4a685"
      },
      "source": [
        "node_id = 0\n",
        "\n",
        "# Degree of node 0\n",
        "print(\"Node {} has degree {}\".format(node_id, G.degree[0]))"
      ],
      "execution_count": 17,
      "outputs": [
        {
          "output_type": "stream",
          "name": "stdout",
          "text": [
            "Node 0 has degree 2\n"
          ]
        }
      ]
    },
    {
      "cell_type": "code",
      "metadata": {
        "id": "rqWyjBmsE2Nb",
        "colab": {
          "base_uri": "https://localhost:8080/"
        },
        "outputId": "e3cfa31d-826f-46b1-989f-2b6e924dc433"
      },
      "source": [
        "# Get neighbor of node 0\n",
        "node_0_neighbor = G.neighbors(0)\n",
        "for neighbor in node_0_neighbor:\n",
        "  print(\"Node {} has neighbor {}\".format(node_id, neighbor))"
      ],
      "execution_count": 18,
      "outputs": [
        {
          "output_type": "stream",
          "name": "stdout",
          "text": [
            "Node 0 has neighbor 1\n",
            "Node 0 has neighbor 2\n"
          ]
        }
      ]
    },
    {
      "cell_type": "code",
      "metadata": {
        "id": "CzN4x0UWkkLt",
        "colab": {
          "base_uri": "https://localhost:8080/"
        },
        "outputId": "423cc7c2-5d4c-4e16-89ce-f66af03d446e"
      },
      "source": [
        "print(nx.clustering(G))"
      ],
      "execution_count": 19,
      "outputs": [
        {
          "output_type": "stream",
          "name": "stdout",
          "text": [
            "{0: 1.0, 1: 1.0, 2: 1.0}\n"
          ]
        }
      ]
    },
    {
      "cell_type": "code",
      "metadata": {
        "id": "geXRihGtEQYM",
        "colab": {
          "base_uri": "https://localhost:8080/"
        },
        "outputId": "6764540d-0799-4f68-957e-89606cad2d38"
      },
      "source": [
        "print(\"Node {}'s clustering coefficient\".format(node_id), nx.clustering(G,0) )"
      ],
      "execution_count": 21,
      "outputs": [
        {
          "output_type": "stream",
          "name": "stdout",
          "text": [
            "Node 0's clustering coefficient 1.0\n"
          ]
        }
      ]
    },
    {
      "cell_type": "code",
      "metadata": {
        "id": "4IqCW4upEkhm",
        "colab": {
          "base_uri": "https://localhost:8080/"
        },
        "outputId": "c213e613-105a-454c-860c-5b48485ff3a9"
      },
      "source": [
        "print(nx.average_clustering(G))"
      ],
      "execution_count": 22,
      "outputs": [
        {
          "output_type": "stream",
          "name": "stdout",
          "text": [
            "1.0\n"
          ]
        }
      ]
    },
    {
      "cell_type": "markdown",
      "metadata": {
        "id": "6u2qrWWqGe7G"
      },
      "source": [
        "### Page Rank\n",
        "- doc : [networkx.algorithms.link_analysis.pagerank_alg.pagerank](https://networkx.github.io/documentation/stable/reference/algorithms/generated/networkx.algorithms.link_analysis.pagerank_alg.pagerank.html#networkx.algorithms.link_analysis.pagerank_alg.pagerank)"
      ]
    },
    {
      "cell_type": "code",
      "metadata": {
        "id": "KyLeJxvmGe7J",
        "colab": {
          "base_uri": "https://localhost:8080/"
        },
        "outputId": "a11782da-c571-4123-c447-fa9c8a82fe61"
      },
      "source": [
        "pagerank = nx.pagerank(G)\n",
        "pagerank"
      ],
      "execution_count": 25,
      "outputs": [
        {
          "output_type": "execute_result",
          "data": {
            "text/plain": [
              "{0: 0.3306272121096612, 1: 0.4341487399072054, 2: 0.23522404798313346}"
            ]
          },
          "metadata": {},
          "execution_count": 25
        }
      ]
    },
    {
      "cell_type": "markdown",
      "metadata": {
        "id": "w7unC_jmGe7Y"
      },
      "source": [
        "### Node Centrality\n",
        "- degree centrality : 연결된 node가 많을 수록 큼. nx.degree_centrality(g), nx.in_degree_centrality(g), nx.out_degree_centrality(g)\n",
        "- closeness centrality : 모든 node와의 거리가 가까울 수록 큼. nx.closeness_centrality(g)\n",
        "- betweenness centrality : 노드 간의 경로에 있을 수록 큼. nx.betweenness centrality(g, normalized=True)\n",
        "- eigenvector centrality : 큰 네트워크와 연결되있는 사람일 수록 큼. nx.eigenvector_centrality(g)\n",
        "- *doc* : [Centrality](https://networkx.github.io/documentation/stable/reference/algorithms/centrality.html)"
      ]
    },
    {
      "cell_type": "code",
      "metadata": {
        "id": "e3k8o2wwGe7b",
        "colab": {
          "base_uri": "https://localhost:8080/"
        },
        "outputId": "1882a804-22f9-4e93-cc8f-707924cd6671"
      },
      "source": [
        "degree_centrality = nx.degree_centrality(G)\n",
        "degree_centrality"
      ],
      "execution_count": 26,
      "outputs": [
        {
          "output_type": "execute_result",
          "data": {
            "text/plain": [
              "{0: 1.0, 1: 1.0, 2: 1.0}"
            ]
          },
          "metadata": {},
          "execution_count": 26
        }
      ]
    },
    {
      "cell_type": "code",
      "metadata": {
        "id": "wMEPispQGe7p",
        "colab": {
          "base_uri": "https://localhost:8080/"
        },
        "outputId": "884734b0-e1ef-405e-dc59-2ce094d6da99"
      },
      "source": [
        "closeness_centrality = nx.closeness_centrality(G)\n",
        "closeness_centrality"
      ],
      "execution_count": 27,
      "outputs": [
        {
          "output_type": "execute_result",
          "data": {
            "text/plain": [
              "{0: 1.0, 1: 1.0, 2: 1.0}"
            ]
          },
          "metadata": {},
          "execution_count": 27
        }
      ]
    },
    {
      "cell_type": "code",
      "metadata": {
        "id": "le8w2XlvGe7y",
        "colab": {
          "base_uri": "https://localhost:8080/"
        },
        "outputId": "923f7098-dbba-477b-ff0c-07cd4ac4dc6c"
      },
      "source": [
        "betweenness_centrality = nx.betweenness_centrality(G, normalized=False)\n",
        "betweenness_centrality"
      ],
      "execution_count": 28,
      "outputs": [
        {
          "output_type": "execute_result",
          "data": {
            "text/plain": [
              "{0: 0.0, 1: 0.0, 2: 0.0}"
            ]
          },
          "metadata": {},
          "execution_count": 28
        }
      ]
    },
    {
      "cell_type": "code",
      "metadata": {
        "id": "N-2BfkcVXmEp",
        "colab": {
          "base_uri": "https://localhost:8080/"
        },
        "outputId": "141618eb-12fb-4f4c-91a5-4b6186366140"
      },
      "source": [
        "betweenness_centrality = nx.betweenness_centrality(G, normalized=True)\n",
        "betweenness_centrality"
      ],
      "execution_count": 29,
      "outputs": [
        {
          "output_type": "execute_result",
          "data": {
            "text/plain": [
              "{0: 0.0, 1: 0.0, 2: 0.0}"
            ]
          },
          "metadata": {},
          "execution_count": 29
        }
      ]
    },
    {
      "cell_type": "code",
      "metadata": {
        "id": "EKP-Tw-XGe77",
        "colab": {
          "base_uri": "https://localhost:8080/"
        },
        "outputId": "ba259b52-f9f2-4144-9b5f-bd787b3b1bed"
      },
      "source": [
        "eigenvector_centrality = nx.eigenvector_centrality(G)\n",
        "eigenvector_centrality"
      ],
      "execution_count": 30,
      "outputs": [
        {
          "output_type": "execute_result",
          "data": {
            "text/plain": [
              "{0: 0.5773502691896258, 1: 0.5773502691896258, 2: 0.5773502691896258}"
            ]
          },
          "metadata": {},
          "execution_count": 30
        }
      ]
    },
    {
      "cell_type": "markdown",
      "metadata": {
        "id": "JxyGHxGK4AuM"
      },
      "source": [
        "## Load Graph Dataset"
      ]
    },
    {
      "cell_type": "code",
      "metadata": {
        "id": "wUpB1Akg4FCt"
      },
      "source": [
        "# load the karate club graph\n",
        "G = nx.karate_club_graph()"
      ],
      "execution_count": 31,
      "outputs": []
    },
    {
      "cell_type": "code",
      "metadata": {
        "id": "LwUvIyU-5Gf5",
        "colab": {
          "base_uri": "https://localhost:8080/",
          "height": 309
        },
        "outputId": "9e6c2afd-788c-4093-b38d-e9e193b17eff"
      },
      "source": [
        "import pandas as pd\n",
        "\n",
        "# load dataset\n",
        "# [NeurIPS 2020] Data Science for COVID-19 (DS4C)\n",
        "# https://www.kaggle.com/kimjihoo/coronavirusdataset/version/86\n",
        "file_path = '/content/drive/MyDrive/Colab Notebooks/PatientInfo.csv'\n",
        "\n",
        "df = pd.read_csv(file_path, dtype={'patient_id': str, 'infected_by':str})\n",
        "\n",
        "# drop rows where infected_by == NaN\n",
        "edgelist = df[~df.infected_by.isna()]\n",
        "print(edgelist.shape)\n",
        "edgelist.head()\n",
        "\n",
        "df.head()"
      ],
      "execution_count": 35,
      "outputs": [
        {
          "output_type": "stream",
          "name": "stdout",
          "text": [
            "(1346, 14)\n"
          ]
        },
        {
          "output_type": "execute_result",
          "data": {
            "text/html": [
              "<div>\n",
              "<style scoped>\n",
              "    .dataframe tbody tr th:only-of-type {\n",
              "        vertical-align: middle;\n",
              "    }\n",
              "\n",
              "    .dataframe tbody tr th {\n",
              "        vertical-align: top;\n",
              "    }\n",
              "\n",
              "    .dataframe thead th {\n",
              "        text-align: right;\n",
              "    }\n",
              "</style>\n",
              "<table border=\"1\" class=\"dataframe\">\n",
              "  <thead>\n",
              "    <tr style=\"text-align: right;\">\n",
              "      <th></th>\n",
              "      <th>patient_id</th>\n",
              "      <th>sex</th>\n",
              "      <th>age</th>\n",
              "      <th>country</th>\n",
              "      <th>province</th>\n",
              "      <th>city</th>\n",
              "      <th>infection_case</th>\n",
              "      <th>infected_by</th>\n",
              "      <th>contact_number</th>\n",
              "      <th>symptom_onset_date</th>\n",
              "      <th>confirmed_date</th>\n",
              "      <th>released_date</th>\n",
              "      <th>deceased_date</th>\n",
              "      <th>state</th>\n",
              "    </tr>\n",
              "  </thead>\n",
              "  <tbody>\n",
              "    <tr>\n",
              "      <th>0</th>\n",
              "      <td>1000000001</td>\n",
              "      <td>male</td>\n",
              "      <td>50s</td>\n",
              "      <td>Korea</td>\n",
              "      <td>Seoul</td>\n",
              "      <td>Gangseo-gu</td>\n",
              "      <td>overseas inflow</td>\n",
              "      <td>NaN</td>\n",
              "      <td>75</td>\n",
              "      <td>2020-01-22</td>\n",
              "      <td>2020-01-23</td>\n",
              "      <td>2020-02-05</td>\n",
              "      <td>NaN</td>\n",
              "      <td>released</td>\n",
              "    </tr>\n",
              "    <tr>\n",
              "      <th>1</th>\n",
              "      <td>1000000002</td>\n",
              "      <td>male</td>\n",
              "      <td>30s</td>\n",
              "      <td>Korea</td>\n",
              "      <td>Seoul</td>\n",
              "      <td>Jungnang-gu</td>\n",
              "      <td>overseas inflow</td>\n",
              "      <td>NaN</td>\n",
              "      <td>31</td>\n",
              "      <td>NaN</td>\n",
              "      <td>2020-01-30</td>\n",
              "      <td>2020-03-02</td>\n",
              "      <td>NaN</td>\n",
              "      <td>released</td>\n",
              "    </tr>\n",
              "    <tr>\n",
              "      <th>2</th>\n",
              "      <td>1000000003</td>\n",
              "      <td>male</td>\n",
              "      <td>50s</td>\n",
              "      <td>Korea</td>\n",
              "      <td>Seoul</td>\n",
              "      <td>Jongno-gu</td>\n",
              "      <td>contact with patient</td>\n",
              "      <td>2002000001</td>\n",
              "      <td>17</td>\n",
              "      <td>NaN</td>\n",
              "      <td>2020-01-30</td>\n",
              "      <td>2020-02-19</td>\n",
              "      <td>NaN</td>\n",
              "      <td>released</td>\n",
              "    </tr>\n",
              "    <tr>\n",
              "      <th>3</th>\n",
              "      <td>1000000004</td>\n",
              "      <td>male</td>\n",
              "      <td>20s</td>\n",
              "      <td>Korea</td>\n",
              "      <td>Seoul</td>\n",
              "      <td>Mapo-gu</td>\n",
              "      <td>overseas inflow</td>\n",
              "      <td>NaN</td>\n",
              "      <td>9</td>\n",
              "      <td>2020-01-26</td>\n",
              "      <td>2020-01-30</td>\n",
              "      <td>2020-02-15</td>\n",
              "      <td>NaN</td>\n",
              "      <td>released</td>\n",
              "    </tr>\n",
              "    <tr>\n",
              "      <th>4</th>\n",
              "      <td>1000000005</td>\n",
              "      <td>female</td>\n",
              "      <td>20s</td>\n",
              "      <td>Korea</td>\n",
              "      <td>Seoul</td>\n",
              "      <td>Seongbuk-gu</td>\n",
              "      <td>contact with patient</td>\n",
              "      <td>1000000002</td>\n",
              "      <td>2</td>\n",
              "      <td>NaN</td>\n",
              "      <td>2020-01-31</td>\n",
              "      <td>2020-02-24</td>\n",
              "      <td>NaN</td>\n",
              "      <td>released</td>\n",
              "    </tr>\n",
              "  </tbody>\n",
              "</table>\n",
              "</div>"
            ],
            "text/plain": [
              "   patient_id     sex  age  ... released_date deceased_date     state\n",
              "0  1000000001    male  50s  ...    2020-02-05           NaN  released\n",
              "1  1000000002    male  30s  ...    2020-03-02           NaN  released\n",
              "2  1000000003    male  50s  ...    2020-02-19           NaN  released\n",
              "3  1000000004    male  20s  ...    2020-02-15           NaN  released\n",
              "4  1000000005  female  20s  ...    2020-02-24           NaN  released\n",
              "\n",
              "[5 rows x 14 columns]"
            ]
          },
          "metadata": {},
          "execution_count": 35
        }
      ]
    },
    {
      "cell_type": "code",
      "metadata": {
        "colab": {
          "base_uri": "https://localhost:8080/"
        },
        "id": "u2k0eem-wE3R",
        "outputId": "2684393c-d91b-4104-dc95-7266b6fbee27"
      },
      "source": [
        "from google.colab import drive\n",
        "drive.mount('/content/drive')"
      ],
      "execution_count": 32,
      "outputs": [
        {
          "output_type": "stream",
          "name": "stdout",
          "text": [
            "Mounted at /content/drive\n"
          ]
        }
      ]
    },
    {
      "cell_type": "code",
      "metadata": {
        "id": "QNwhN5iN54xX"
      },
      "source": [
        "g = nx.DiGraph(\n",
        "    df.loc[:, ( 'infected_by', 'patient_id')].dropna().values.tolist()\n",
        "    )"
      ],
      "execution_count": 36,
      "outputs": []
    },
    {
      "cell_type": "markdown",
      "metadata": {
        "id": "9u1Utjn4bc7k"
      },
      "source": [
        "## Visualization"
      ]
    },
    {
      "cell_type": "code",
      "metadata": {
        "id": "lykPzFOEahuP",
        "colab": {
          "base_uri": "https://localhost:8080/",
          "height": 319
        },
        "outputId": "d3cf7b49-8d89-4428-f08c-08c0c5880676"
      },
      "source": [
        "# Draw the graph\n",
        "nx.draw(G, with_labels = False)"
      ],
      "execution_count": 37,
      "outputs": [
        {
          "output_type": "display_data",
          "data": {
            "image/png": "[encoded data removed]",
            "text/plain": [
              "<Figure size 432x288 with 1 Axes>"
            ]
          },
          "metadata": {}
        }
      ]
    },
    {
      "cell_type": "code",
      "metadata": {
        "id": "NDbwcO9xHfU1",
        "colab": {
          "base_uri": "https://localhost:8080/",
          "height": 319
        },
        "outputId": "65450a6b-dcfc-4fc9-e7d9-f3f8a125cf13"
      },
      "source": [
        "# Draw the graph\n",
        "nx.draw(g, with_labels = False)"
      ],
      "execution_count": 38,
      "outputs": [
        {
          "output_type": "display_data",
          "data": {
            "image/png": "[encoded data removed]",
            "text/plain": [
              "<Figure size 432x288 with 1 Axes>"
            ]
          },
          "metadata": {}
        }
      ]
    },
    {
      "cell_type": "code",
      "metadata": {
        "id": "okDdwfcfYIMQ"
      },
      "source": [
        "nx.write_graphml_lxml(g, \"sample_graph.graphml\")"
      ],
      "execution_count": 39,
      "outputs": []
    },
    {
      "cell_type": "markdown",
      "metadata": {
        "id": "Iee0U8KGURc8"
      },
      "source": [
        "# 2. Community Dectection\n",
        "\n",
        "Here we use following a Louvain community detection / partition algorithm to partition the graph into different clusters:\n",
        "* [Louvain algorithm](https://python-louvain.readthedocs.io/en/latest/api.html)\n"
      ]
    },
    {
      "cell_type": "code",
      "metadata": {
        "id": "gj7JZPqB3rDj",
        "colab": {
          "base_uri": "https://localhost:8080/"
        },
        "outputId": "e2a9aca4-f192-4bb9-8c3d-feedf0f9d008"
      },
      "source": [
        "print(nx.__version__)"
      ],
      "execution_count": 40,
      "outputs": [
        {
          "output_type": "stream",
          "name": "stdout",
          "text": [
            "2.6.3\n"
          ]
        }
      ]
    },
    {
      "cell_type": "code",
      "metadata": {
        "id": "JvrEqJB03Jqu",
        "colab": {
          "base_uri": "https://localhost:8080/"
        },
        "outputId": "fcbb9532-c07d-4c3b-8403-b66d1ff4c083"
      },
      "source": [
        "# ! pip install python-louvain\n",
        "! pip install -U git+https://github.com/taynaud/python-louvain.git@networkx2"
      ],
      "execution_count": 41,
      "outputs": [
        {
          "output_type": "stream",
          "name": "stdout",
          "text": [
            "Collecting git+https://github.com/taynaud/python-louvain.git@networkx2\n",
            "  Cloning https://github.com/taynaud/python-louvain.git (to revision networkx2) to /tmp/pip-req-build-ujz92ngu\n",
            "  Running command git clone -q https://github.com/taynaud/python-louvain.git /tmp/pip-req-build-ujz92ngu\n",
            "  Running command git checkout -b networkx2 --track origin/networkx2\n",
            "  Switched to a new branch 'networkx2'\n",
            "  Branch 'networkx2' set up to track remote branch 'networkx2' from 'origin'.\n",
            "Requirement already satisfied: networkx in /usr/local/lib/python3.7/dist-packages (from python-louvain==0.8) (2.6.3)\n",
            "Building wheels for collected packages: python-louvain\n",
            "  Building wheel for python-louvain (setup.py) ... \u001b[?25l\u001b[?25hdone\n",
            "  Created wheel for python-louvain: filename=python_louvain-0.8-py3-none-any.whl size=7601 sha256=6f0573b0b570033adb7a6503687434989ba1c6666b4584ab39ca4280abcc03c3\n",
            "  Stored in directory: /tmp/pip-ephem-wheel-cache-ijz_zuy1/wheels/a8/fc/12/d315d0e1b55bf2edbd2738d76f00c55ba345a7a99285495d9c\n",
            "Successfully built python-louvain\n",
            "Installing collected packages: python-louvain\n",
            "  Attempting uninstall: python-louvain\n",
            "    Found existing installation: python-louvain 0.15\n",
            "    Uninstalling python-louvain-0.15:\n",
            "      Successfully uninstalled python-louvain-0.15\n",
            "Successfully installed python-louvain-0.8\n"
          ]
        }
      ]
    },
    {
      "cell_type": "code",
      "metadata": {
        "id": "K_A4MGIc3CsI",
        "colab": {
          "base_uri": "https://localhost:8080/"
        },
        "outputId": "7ad0bcd2-d05f-4012-c8da-fd6068c5daa0"
      },
      "source": [
        "import community as community_louvain\n",
        "import matplotlib.cm as cm\n",
        "import matplotlib.pyplot as plt\n",
        "import networkx as nx\n",
        "\n",
        "# load the karate club graph\n",
        "G = nx.karate_club_graph()\n",
        "\n",
        "# compute the best partition\n",
        "partition = community_louvain.best_partition(G)\n",
        "print(partition)\n"
      ],
      "execution_count": 42,
      "outputs": [
        {
          "output_type": "stream",
          "name": "stdout",
          "text": [
            "{0: 0, 1: 0, 2: 0, 3: 0, 4: 1, 5: 1, 6: 1, 7: 0, 8: 2, 9: 0, 10: 1, 11: 0, 12: 0, 13: 0, 14: 2, 15: 2, 16: 1, 17: 0, 18: 2, 19: 0, 20: 2, 21: 0, 22: 2, 23: 3, 24: 3, 25: 3, 26: 2, 27: 3, 28: 3, 29: 2, 30: 2, 31: 3, 32: 2, 33: 2}\n"
          ]
        }
      ]
    },
    {
      "cell_type": "code",
      "metadata": {
        "id": "aW6zAOrJGwSe",
        "colab": {
          "base_uri": "https://localhost:8080/",
          "height": 248
        },
        "outputId": "50d22dd4-7b1c-4c31-af32-d0c673debf94"
      },
      "source": [
        "# draw the graph\n",
        "pos = nx.spring_layout(G)\n",
        "# color the nodes according to their partition\n",
        "cmap = cm.get_cmap('viridis', max(partition.values()) + 1)\n",
        "nx.draw_networkx_nodes(G, pos, partition.keys(), node_size=40,\n",
        "                       cmap=cmap, node_color=list(partition.values()))\n",
        "nx.draw_networkx_edges(G, pos, alpha=0.5)\n",
        "plt.show()"
      ],
      "execution_count": 44,
      "outputs": [
        {
          "output_type": "display_data",
          "data": {
            "image/png": "[encoded data removed]",
            "text/plain": [
              "<Figure size 432x288 with 1 Axes>"
            ]
          },
          "metadata": {}
        }
      ]
    },
    {
      "cell_type": "markdown",
      "metadata": {
        "id": "qAUNEpXZE-oQ"
      },
      "source": [
        "# 간단 퀴즈\n",
        "- 오늘 실습내용을 간단히 응용해 봅시다."
      ]
    },
    {
      "cell_type": "markdown",
      "metadata": {
        "id": "EXRkaPimFYZq"
      },
      "source": [
        "setting. karate club 데이터셋을 다시 로드해주세요."
      ]
    },
    {
      "cell_type": "code",
      "metadata": {
        "id": "gh6ASJYOFLki"
      },
      "source": [
        "# load the karate club graph\n",
        "G = nx.karate_club_graph()"
      ],
      "execution_count": 45,
      "outputs": []
    },
    {
      "cell_type": "markdown",
      "metadata": {
        "id": "M5Zy3NTV7Snt"
      },
      "source": [
        "Q1. betweenness_centrality가 두번째로 큰 노드의 아이디를 출력하세요\n",
        "\n",
        "힌트: dictionary를 value값 기준으로 오름차순 정렬하기\n",
        "\n",
        "\n",
        "```\n",
        "sorted(my_dict.items(), key=lambda item: item[1], reverse=False)\n",
        "```\n",
        "\n"
      ]
    },
    {
      "cell_type": "code",
      "metadata": {
        "id": "W2BZJ5yo7ZFC",
        "colab": {
          "base_uri": "https://localhost:8080/"
        },
        "outputId": "8d2694d0-e7ac-4537-ef61-781e60c25c96"
      },
      "source": [
        "betweenness_centrality = nx.betweenness_centrality(G, normalized=False)\n",
        "sorted(betweenness_centrality.items(), key=lambda item: item[1], reverse=False)[1]"
      ],
      "execution_count": 48,
      "outputs": [
        {
          "output_type": "execute_result",
          "data": {
            "text/plain": [
              "(11, 0.0)"
            ]
          },
          "metadata": {},
          "execution_count": 48
        }
      ]
    },
    {
      "cell_type": "markdown",
      "metadata": {
        "id": "usfL4xckFtNp"
      },
      "source": [
        "Q2. degree가 두번째로 큰 노드 아이디를 출력하세요 (방향 고려X)"
      ]
    },
    {
      "cell_type": "code",
      "metadata": {
        "colab": {
          "base_uri": "https://localhost:8080/"
        },
        "id": "sEr-sEE60vZ2",
        "outputId": "d4b9407b-4c6f-4736-ea7f-606db5d9ac35"
      },
      "source": [
        "0"
      ],
      "execution_count": 71,
      "outputs": [
        {
          "output_type": "execute_result",
          "data": {
            "text/plain": [
              "0"
            ]
          },
          "metadata": {},
          "execution_count": 71
        }
      ]
    },
    {
      "cell_type": "markdown",
      "metadata": {
        "id": "TAqR11pYG0si"
      },
      "source": [
        "Q3. betweenness_centrality 상위 10개의 노드로 구성된 리스트와 degree 상위 10개의 노드로 구성된 리스트를 비교하고, 해당된 두 리스트에서 겹치는 노드의 수를 적으세요.\n",
        "\n",
        "예. \n",
        "- betweenness_centrality 상위 3개 노드 리스트 = [1, 3, 5]\n",
        "- degree 상위 3개 노드 리스트 = [1, 2, 5]\n",
        "\n",
        "답.\n",
        "2개"
      ]
    },
    {
      "cell_type": "code",
      "metadata": {
        "id": "nkWf_Ote1Ytx"
      },
      "source": [
        "[0,33,32,2,31,8,1,13,19,5]\n",
        "[33,0,32,2,1,3,31,8,13,23 ]\n",
        "33과 0,32,2,1,31,8,13  8 개 입니당"
      ],
      "execution_count": null,
      "outputs": []
    },
    {
      "cell_type": "code",
      "metadata": {
        "colab": {
          "base_uri": "https://localhost:8080/"
        },
        "id": "w2YZ9ocJ172_",
        "outputId": "04572dfa-322e-4ded-922f-ffd4bcdfcea7"
      },
      "source": [
        "sorted(betweenness_centrality.items(), key=lambda item: item[1], reverse=True)[0:10]"
      ],
      "execution_count": 79,
      "outputs": [
        {
          "output_type": "execute_result",
          "data": {
            "text/plain": [
              "[(0, 231.0714285714286),\n",
              " (33, 160.5515873015873),\n",
              " (32, 76.69047619047619),\n",
              " (2, 75.85079365079366),\n",
              " (31, 73.00952380952378),\n",
              " (8, 29.529365079365082),\n",
              " (1, 28.478571428571424),\n",
              " (13, 24.215873015873015),\n",
              " (19, 17.1468253968254),\n",
              " (5, 15.833333333333334)]"
            ]
          },
          "metadata": {},
          "execution_count": 79
        }
      ]
    },
    {
      "cell_type": "code",
      "metadata": {
        "colab": {
          "base_uri": "https://localhost:8080/"
        },
        "id": "qMP4jUXx1ktA",
        "outputId": "c5f7a15f-9d92-4671-a9e3-7f53ba3d7eba"
      },
      "source": [
        "sorted(dict(G.degree()).items(), key=lambda item: item[1], reverse=True)[0:10]"
      ],
      "execution_count": 78,
      "outputs": [
        {
          "output_type": "execute_result",
          "data": {
            "text/plain": [
              "[(33, 17),\n",
              " (0, 16),\n",
              " (32, 12),\n",
              " (2, 10),\n",
              " (1, 9),\n",
              " (3, 6),\n",
              " (31, 6),\n",
              " (8, 5),\n",
              " (13, 5),\n",
              " (23, 5)]"
            ]
          },
          "metadata": {},
          "execution_count": 78
        }
      ]
    },
    {
      "cell_type": "code",
      "metadata": {
        "id": "zkB-JM5_HOgb",
        "colab": {
          "base_uri": "https://localhost:8080/"
        },
        "outputId": "7bc4e260-d465-4b57-9e0e-dc42cf7690f4"
      },
      "source": [
        "dict(G.degree())"
      ],
      "execution_count": 75,
      "outputs": [
        {
          "output_type": "execute_result",
          "data": {
            "text/plain": [
              "{0: 16,\n",
              " 1: 9,\n",
              " 2: 10,\n",
              " 3: 6,\n",
              " 4: 3,\n",
              " 5: 4,\n",
              " 6: 4,\n",
              " 7: 4,\n",
              " 8: 5,\n",
              " 9: 2,\n",
              " 10: 3,\n",
              " 11: 1,\n",
              " 12: 2,\n",
              " 13: 5,\n",
              " 14: 2,\n",
              " 15: 2,\n",
              " 16: 2,\n",
              " 17: 2,\n",
              " 18: 2,\n",
              " 19: 3,\n",
              " 20: 2,\n",
              " 21: 2,\n",
              " 22: 2,\n",
              " 23: 5,\n",
              " 24: 3,\n",
              " 25: 3,\n",
              " 26: 2,\n",
              " 27: 4,\n",
              " 28: 3,\n",
              " 29: 4,\n",
              " 30: 4,\n",
              " 31: 6,\n",
              " 32: 12,\n",
              " 33: 17}"
            ]
          },
          "metadata": {},
          "execution_count": 75
        }
      ]
    },
    {
      "cell_type": "code",
      "metadata": {
        "id": "Qghe047Y1X5E"
      },
      "source": [
        ""
      ],
      "execution_count": null,
      "outputs": []
    }
  ]
}